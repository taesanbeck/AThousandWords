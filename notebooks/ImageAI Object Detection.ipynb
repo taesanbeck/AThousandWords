{
 "cells": [
  {
   "cell_type": "code",
   "execution_count": null,
   "id": "650b2a93",
   "metadata": {},
   "outputs": [],
   "source": [
    "#! pip install imageai --upgrade"
   ]
  },
  {
   "cell_type": "code",
   "execution_count": 8,
   "id": "fcfdd4e2",
   "metadata": {},
   "outputs": [],
   "source": [
    "from imageai.Detection import ObjectDetection\n",
    "import os"
   ]
  },
  {
   "cell_type": "code",
   "execution_count": 9,
   "id": "d31b7229",
   "metadata": {},
   "outputs": [],
   "source": [
    "execution_path = os.getcwd()"
   ]
  },
  {
   "cell_type": "code",
   "execution_count": 11,
   "id": "f74967be",
   "metadata": {},
   "outputs": [],
   "source": [
    "detector = ObjectDetection()\n",
    "detector.setModelTypeAsYOLOv3()\n",
    "detector.setModelPath(os.path.join(execution_path , \"yolov3.pt\"))\n",
    "detector.loadModel()"
   ]
  },
  {
   "cell_type": "code",
   "execution_count": 12,
   "id": "ea2fcfe3",
   "metadata": {},
   "outputs": [
    {
     "ename": "ValueError",
     "evalue": "image path '/home/taesanbeck/AThousandWords/AThousandWords/notebooks/val2017/000000000139.jpg' is not found or a valid file",
     "output_type": "error",
     "traceback": [
      "\u001b[0;31m---------------------------------------------------------------------------\u001b[0m",
      "\u001b[0;31mValueError\u001b[0m                                Traceback (most recent call last)",
      "Cell \u001b[0;32mIn[12], line 1\u001b[0m\n\u001b[0;32m----> 1\u001b[0m detections \u001b[39m=\u001b[39m detector\u001b[39m.\u001b[39;49mdetectObjectsFromImage(input_image\u001b[39m=\u001b[39;49mos\u001b[39m.\u001b[39;49mpath\u001b[39m.\u001b[39;49mjoin(execution_path,\u001b[39m\"\u001b[39;49m\u001b[39mval2017\u001b[39;49m\u001b[39m\"\u001b[39;49m, \u001b[39m\"\u001b[39;49m\u001b[39m000000000139.jpg\u001b[39;49m\u001b[39m\"\u001b[39;49m), \n\u001b[1;32m      2\u001b[0m                                              output_image_path\u001b[39m=\u001b[39;49mos\u001b[39m.\u001b[39;49mpath\u001b[39m.\u001b[39;49mjoin(execution_path ,\u001b[39m\"\u001b[39;49m\u001b[39mresults\u001b[39;49m\u001b[39m\"\u001b[39;49m, \u001b[39m\"\u001b[39;49m\u001b[39mimagenew.jpg\u001b[39;49m\u001b[39m\"\u001b[39;49m), \n\u001b[1;32m      3\u001b[0m                                              minimum_percentage_probability\u001b[39m=\u001b[39;49m\u001b[39m50\u001b[39;49m)\n",
      "File \u001b[0;32m~/.local/lib/python3.10/site-packages/imageai/Detection/__init__.py:338\u001b[0m, in \u001b[0;36mObjectDetection.detectObjectsFromImage\u001b[0;34m(self, input_image, output_image_path, output_type, extract_detected_objects, minimum_percentage_probability, display_percentage_probability, display_object_name, display_box, custom_objects)\u001b[0m\n\u001b[1;32m    334\u001b[0m predictions \u001b[39m=\u001b[39m defaultdict(\u001b[39mlambda\u001b[39;00m : [])\n\u001b[1;32m    337\u001b[0m \u001b[39mif\u001b[39;00m \u001b[39mself\u001b[39m\u001b[39m.\u001b[39m__model_type \u001b[39m==\u001b[39m \u001b[39m\"\u001b[39m\u001b[39myolov3\u001b[39m\u001b[39m\"\u001b[39m \u001b[39mor\u001b[39;00m \u001b[39mself\u001b[39m\u001b[39m.\u001b[39m__model_type \u001b[39m==\u001b[39m \u001b[39m\"\u001b[39m\u001b[39mtiny-yolov3\u001b[39m\u001b[39m\"\u001b[39m:\n\u001b[0;32m--> 338\u001b[0m     fnames, original_imgs, input_dims, imgs \u001b[39m=\u001b[39m \u001b[39mself\u001b[39;49m\u001b[39m.\u001b[39;49m__load_image_yolo(input_image)\n\u001b[1;32m    340\u001b[0m     \u001b[39mwith\u001b[39;00m torch\u001b[39m.\u001b[39mno_grad():\n\u001b[1;32m    341\u001b[0m         output \u001b[39m=\u001b[39m \u001b[39mself\u001b[39m\u001b[39m.\u001b[39m__model(imgs)\n",
      "File \u001b[0;32m~/.local/lib/python3.10/site-packages/imageai/Detection/__init__.py:91\u001b[0m, in \u001b[0;36mObjectDetection.__load_image_yolo\u001b[0;34m(self, input_image)\u001b[0m\n\u001b[1;32m     89\u001b[0m             img \u001b[39m=\u001b[39m cv2\u001b[39m.\u001b[39mimread(input_image)\n\u001b[1;32m     90\u001b[0m     \u001b[39melse\u001b[39;00m:\n\u001b[0;32m---> 91\u001b[0m         \u001b[39mraise\u001b[39;00m \u001b[39mValueError\u001b[39;00m(\u001b[39mf\u001b[39m\u001b[39m\"\u001b[39m\u001b[39mimage path \u001b[39m\u001b[39m'\u001b[39m\u001b[39m{\u001b[39;00minput_image\u001b[39m}\u001b[39;00m\u001b[39m'\u001b[39m\u001b[39m is not found or a valid file\u001b[39m\u001b[39m\"\u001b[39m)\n\u001b[1;32m     92\u001b[0m \u001b[39melif\u001b[39;00m \u001b[39mtype\u001b[39m(input_image) \u001b[39m==\u001b[39m np\u001b[39m.\u001b[39mndarray:\n\u001b[1;32m     93\u001b[0m     img \u001b[39m=\u001b[39m input_image\n",
      "\u001b[0;31mValueError\u001b[0m: image path '/home/taesanbeck/AThousandWords/AThousandWords/notebooks/val2017/000000000139.jpg' is not found or a valid file"
     ]
    }
   ],
   "source": [
    "detections = detector.detectObjectsFromImage(input_image=os.path.join(execution_path,\"val2017\", \"000000000139.jpg\"), \n",
    "                                             output_image_path=os.path.join(execution_path ,\"results\", \"imagenew.jpg\"), \n",
    "                                             minimum_percentage_probability=50)\n"
   ]
  },
  {
   "cell_type": "code",
   "execution_count": 6,
   "id": "6b1979e2",
   "metadata": {},
   "outputs": [
    {
     "name": "stdout",
     "output_type": "stream",
     "text": [
      "person  :  99.95  :  [417, 160, 456, 293]\n",
      "--------------------------------\n",
      "chair  :  99.46  :  [296, 216, 353, 318]\n",
      "--------------------------------\n",
      "chair  :  99.15  :  [359, 219, 408, 316]\n",
      "--------------------------------\n",
      "chair  :  99.78  :  [382, 220, 431, 312]\n",
      "--------------------------------\n",
      "chair  :  55.35  :  [357, 214, 373, 229]\n",
      "--------------------------------\n",
      "pottedplant  :  99.83  :  [227, 171, 269, 214]\n",
      "--------------------------------\n",
      "tvmonitor  :  99.89  :  [6, 164, 157, 267]\n",
      "--------------------------------\n",
      "tvmonitor  :  99.94  :  [558, 211, 639, 284]\n",
      "--------------------------------\n",
      "clock  :  99.86  :  [446, 119, 462, 140]\n",
      "--------------------------------\n",
      "vase  :  95.93  :  [552, 295, 585, 400]\n",
      "--------------------------------\n",
      "vase  :  98.99  :  [244, 196, 256, 212]\n",
      "--------------------------------\n"
     ]
    }
   ],
   "source": [
    "for eachObject in detections:\n",
    "    print(eachObject[\"name\"] , \" : \", eachObject[\"percentage_probability\"], \" : \", eachObject[\"box_points\"] )\n",
    "    print(\"--------------------------------\")"
   ]
  },
  {
   "cell_type": "code",
   "execution_count": 9,
   "id": "a3a1fccb",
   "metadata": {},
   "outputs": [
    {
     "name": "stdout",
     "output_type": "stream",
     "text": [
      "person  :  99.95  :  [417, 160, 456, 293]\n",
      "Object's image saved in /Users/aqsajanjuah/Documents/GMU Classes/DAEN 690/image3new-extracted/image3new-1.jpg\n",
      "--------------------------------\n",
      "chair  :  99.46  :  [296, 216, 353, 318]\n",
      "Object's image saved in /Users/aqsajanjuah/Documents/GMU Classes/DAEN 690/image3new-extracted/image3new-2.jpg\n",
      "--------------------------------\n",
      "chair  :  99.15  :  [359, 219, 408, 316]\n",
      "Object's image saved in /Users/aqsajanjuah/Documents/GMU Classes/DAEN 690/image3new-extracted/image3new-3.jpg\n",
      "--------------------------------\n",
      "chair  :  99.78  :  [382, 220, 431, 312]\n",
      "Object's image saved in /Users/aqsajanjuah/Documents/GMU Classes/DAEN 690/image3new-extracted/image3new-4.jpg\n",
      "--------------------------------\n",
      "chair  :  55.35  :  [357, 214, 373, 229]\n",
      "Object's image saved in /Users/aqsajanjuah/Documents/GMU Classes/DAEN 690/image3new-extracted/image3new-5.jpg\n",
      "--------------------------------\n",
      "pottedplant  :  99.83  :  [227, 171, 269, 214]\n",
      "Object's image saved in /Users/aqsajanjuah/Documents/GMU Classes/DAEN 690/image3new-extracted/image3new-6.jpg\n",
      "--------------------------------\n",
      "tvmonitor  :  99.89  :  [6, 164, 157, 267]\n",
      "Object's image saved in /Users/aqsajanjuah/Documents/GMU Classes/DAEN 690/image3new-extracted/image3new-7.jpg\n",
      "--------------------------------\n",
      "tvmonitor  :  99.94  :  [558, 211, 639, 284]\n",
      "Object's image saved in /Users/aqsajanjuah/Documents/GMU Classes/DAEN 690/image3new-extracted/image3new-8.jpg\n",
      "--------------------------------\n",
      "clock  :  99.86  :  [446, 119, 462, 140]\n",
      "Object's image saved in /Users/aqsajanjuah/Documents/GMU Classes/DAEN 690/image3new-extracted/image3new-9.jpg\n",
      "--------------------------------\n",
      "vase  :  95.93  :  [552, 295, 585, 400]\n",
      "Object's image saved in /Users/aqsajanjuah/Documents/GMU Classes/DAEN 690/image3new-extracted/image3new-10.jpg\n",
      "--------------------------------\n",
      "vase  :  98.99  :  [244, 196, 256, 212]\n",
      "Object's image saved in /Users/aqsajanjuah/Documents/GMU Classes/DAEN 690/image3new-extracted/image3new-11.jpg\n",
      "--------------------------------\n"
     ]
    }
   ],
   "source": [
    "detections, objects_path = detector.detectObjectsFromImage(input_image=os.path.join(execution_path ,\"val2017\", \"000000000139.jpg\"), output_image_path=os.path.join(execution_path , \"image3new.jpg\"), minimum_percentage_probability=30,  extract_detected_objects=True)\n",
    "\n",
    "for eachObject, eachObjectPath in zip(detections, objects_path):\n",
    "    print(eachObject[\"name\"] , \" : \" , eachObject[\"percentage_probability\"], \" : \", eachObject[\"box_points\"] )\n",
    "    print(\"Object's image saved in \" + eachObjectPath)\n",
    "    print(\"--------------------------------\")"
   ]
  }
 ],
 "metadata": {
  "kernelspec": {
   "display_name": "Python 3",
   "language": "python",
   "name": "python3"
  },
  "language_info": {
   "codemirror_mode": {
    "name": "ipython",
    "version": 3
   },
   "file_extension": ".py",
   "mimetype": "text/x-python",
   "name": "python",
   "nbconvert_exporter": "python",
   "pygments_lexer": "ipython3",
   "version": "3.10.6"
  }
 },
 "nbformat": 4,
 "nbformat_minor": 5
}

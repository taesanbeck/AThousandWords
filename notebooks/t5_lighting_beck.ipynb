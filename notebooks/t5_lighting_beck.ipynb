version https://git-lfs.github.com/spec/v1
oid sha256:60698e79469fa8bbb6963de00874ed3d9aaab302a8a3e46b30e65c7f58bd4a10
size 977808

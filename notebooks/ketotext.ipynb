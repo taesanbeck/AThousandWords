version https://git-lfs.github.com/spec/v1
oid sha256:6ca4a496c86bce68bd614c0998e86b23183398fa7a1ea1f1d1812f609b615666
size 272605

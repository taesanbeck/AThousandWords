version https://git-lfs.github.com/spec/v1
oid sha256:72ad270674e8cfc174e015109f8e00e3bf3d697e860c4a2ad774d2c1371ac4ff
size 2600529

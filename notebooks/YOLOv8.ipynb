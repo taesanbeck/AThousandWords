{
  "nbformat": 4,
  "nbformat_minor": 0,
  "metadata": {
    "colab": {
      "provenance": [],
      "gpuType": "T4",
      "authorship_tag": "ABX9TyOYCzYeTDrWX+bCkSgbRKJi",
      "include_colab_link": true
    },
    "kernelspec": {
      "name": "python3",
      "display_name": "Python 3"
    },
    "language_info": {
      "name": "python"
    }
  },
  "cells": [
    {
      "cell_type": "markdown",
      "metadata": {
        "id": "view-in-github",
        "colab_type": "text"
      },
      "source": [
        "<a href=\"https://colab.research.google.com/github/aqsajan/AThousandWords/blob/main/YOLOv8.ipynb\" target=\"_parent\"><img src=\"https://colab.research.google.com/assets/colab-badge.svg\" alt=\"Open In Colab\"/></a>"
      ]
    },
    {
      "cell_type": "code",
      "source": [
        "# Go to Edit > Notebook Settings and pick GPU for Hardware accelerator. Click save\n",
        "\n",
        "%pip install ultralytics"
      ],
      "metadata": {
        "colab": {
          "base_uri": "https://localhost:8080/"
        },
        "id": "m7gkgwGcCMZ9",
        "outputId": "f57e4d40-7bfb-4a70-fad7-34bf90d155c1"
      },
      "execution_count": 1,
      "outputs": [
        {
          "output_type": "stream",
          "name": "stdout",
          "text": [
            "Looking in indexes: https://pypi.org/simple, https://us-python.pkg.dev/colab-wheels/public/simple/\n",
            "Collecting ultralytics\n",
            "  Downloading ultralytics-8.0.120-py3-none-any.whl (611 kB)\n",
            "\u001b[2K     \u001b[90m━━━━━━━━━━━━━━━━━━━━━━━━━━━━━━━━━━━━━━\u001b[0m \u001b[32m611.7/611.7 kB\u001b[0m \u001b[31m16.9 MB/s\u001b[0m eta \u001b[36m0:00:00\u001b[0m\n",
            "\u001b[?25hRequirement already satisfied: matplotlib>=3.2.2 in /usr/local/lib/python3.10/dist-packages (from ultralytics) (3.7.1)\n",
            "Requirement already satisfied: opencv-python>=4.6.0 in /usr/local/lib/python3.10/dist-packages (from ultralytics) (4.7.0.72)\n",
            "Requirement already satisfied: Pillow>=7.1.2 in /usr/local/lib/python3.10/dist-packages (from ultralytics) (8.4.0)\n",
            "Requirement already satisfied: PyYAML>=5.3.1 in /usr/local/lib/python3.10/dist-packages (from ultralytics) (6.0)\n",
            "Requirement already satisfied: requests>=2.23.0 in /usr/local/lib/python3.10/dist-packages (from ultralytics) (2.27.1)\n",
            "Requirement already satisfied: scipy>=1.4.1 in /usr/local/lib/python3.10/dist-packages (from ultralytics) (1.10.1)\n",
            "Requirement already satisfied: torch>=1.7.0 in /usr/local/lib/python3.10/dist-packages (from ultralytics) (2.0.1+cu118)\n",
            "Requirement already satisfied: torchvision>=0.8.1 in /usr/local/lib/python3.10/dist-packages (from ultralytics) (0.15.2+cu118)\n",
            "Requirement already satisfied: tqdm>=4.64.0 in /usr/local/lib/python3.10/dist-packages (from ultralytics) (4.65.0)\n",
            "Requirement already satisfied: pandas>=1.1.4 in /usr/local/lib/python3.10/dist-packages (from ultralytics) (1.5.3)\n",
            "Requirement already satisfied: seaborn>=0.11.0 in /usr/local/lib/python3.10/dist-packages (from ultralytics) (0.12.2)\n",
            "Requirement already satisfied: psutil in /usr/local/lib/python3.10/dist-packages (from ultralytics) (5.9.5)\n",
            "Requirement already satisfied: contourpy>=1.0.1 in /usr/local/lib/python3.10/dist-packages (from matplotlib>=3.2.2->ultralytics) (1.0.7)\n",
            "Requirement already satisfied: cycler>=0.10 in /usr/local/lib/python3.10/dist-packages (from matplotlib>=3.2.2->ultralytics) (0.11.0)\n",
            "Requirement already satisfied: fonttools>=4.22.0 in /usr/local/lib/python3.10/dist-packages (from matplotlib>=3.2.2->ultralytics) (4.39.3)\n",
            "Requirement already satisfied: kiwisolver>=1.0.1 in /usr/local/lib/python3.10/dist-packages (from matplotlib>=3.2.2->ultralytics) (1.4.4)\n",
            "Requirement already satisfied: numpy>=1.20 in /usr/local/lib/python3.10/dist-packages (from matplotlib>=3.2.2->ultralytics) (1.22.4)\n",
            "Requirement already satisfied: packaging>=20.0 in /usr/local/lib/python3.10/dist-packages (from matplotlib>=3.2.2->ultralytics) (23.1)\n",
            "Requirement already satisfied: pyparsing>=2.3.1 in /usr/local/lib/python3.10/dist-packages (from matplotlib>=3.2.2->ultralytics) (3.0.9)\n",
            "Requirement already satisfied: python-dateutil>=2.7 in /usr/local/lib/python3.10/dist-packages (from matplotlib>=3.2.2->ultralytics) (2.8.2)\n",
            "Requirement already satisfied: pytz>=2020.1 in /usr/local/lib/python3.10/dist-packages (from pandas>=1.1.4->ultralytics) (2022.7.1)\n",
            "Requirement already satisfied: urllib3<1.27,>=1.21.1 in /usr/local/lib/python3.10/dist-packages (from requests>=2.23.0->ultralytics) (1.26.15)\n",
            "Requirement already satisfied: certifi>=2017.4.17 in /usr/local/lib/python3.10/dist-packages (from requests>=2.23.0->ultralytics) (2022.12.7)\n",
            "Requirement already satisfied: charset-normalizer~=2.0.0 in /usr/local/lib/python3.10/dist-packages (from requests>=2.23.0->ultralytics) (2.0.12)\n",
            "Requirement already satisfied: idna<4,>=2.5 in /usr/local/lib/python3.10/dist-packages (from requests>=2.23.0->ultralytics) (3.4)\n",
            "Requirement already satisfied: filelock in /usr/local/lib/python3.10/dist-packages (from torch>=1.7.0->ultralytics) (3.12.0)\n",
            "Requirement already satisfied: typing-extensions in /usr/local/lib/python3.10/dist-packages (from torch>=1.7.0->ultralytics) (4.5.0)\n",
            "Requirement already satisfied: sympy in /usr/local/lib/python3.10/dist-packages (from torch>=1.7.0->ultralytics) (1.11.1)\n",
            "Requirement already satisfied: networkx in /usr/local/lib/python3.10/dist-packages (from torch>=1.7.0->ultralytics) (3.1)\n",
            "Requirement already satisfied: jinja2 in /usr/local/lib/python3.10/dist-packages (from torch>=1.7.0->ultralytics) (3.1.2)\n",
            "Requirement already satisfied: triton==2.0.0 in /usr/local/lib/python3.10/dist-packages (from torch>=1.7.0->ultralytics) (2.0.0)\n",
            "Requirement already satisfied: cmake in /usr/local/lib/python3.10/dist-packages (from triton==2.0.0->torch>=1.7.0->ultralytics) (3.25.2)\n",
            "Requirement already satisfied: lit in /usr/local/lib/python3.10/dist-packages (from triton==2.0.0->torch>=1.7.0->ultralytics) (16.0.5)\n",
            "Requirement already satisfied: six>=1.5 in /usr/local/lib/python3.10/dist-packages (from python-dateutil>=2.7->matplotlib>=3.2.2->ultralytics) (1.16.0)\n",
            "Requirement already satisfied: MarkupSafe>=2.0 in /usr/local/lib/python3.10/dist-packages (from jinja2->torch>=1.7.0->ultralytics) (2.1.2)\n",
            "Requirement already satisfied: mpmath>=0.19 in /usr/local/lib/python3.10/dist-packages (from sympy->torch>=1.7.0->ultralytics) (1.3.0)\n",
            "Installing collected packages: ultralytics\n",
            "Successfully installed ultralytics-8.0.120\n"
          ]
        }
      ]
    },
    {
      "cell_type": "code",
      "source": [
        "from google.colab import drive\n",
        "\n",
        "gdrive_dir = '/content/gdrive/'\n",
        "\n",
        "drive.mount(gdrive_dir, force_remount=True)"
      ],
      "metadata": {
        "id": "UxsTTr7oCiKV"
      },
      "execution_count": null,
      "outputs": []
    },
    {
      "cell_type": "code",
      "source": [
        "# restart runtime after installing the package\n",
        "\n",
        "from ultralytics import YOLO\n",
        "import torch\n",
        "\n",
        "# https://github.com/ultralytics/ultralytics\n",
        "\n",
        "# Load a model\n",
        "#model = YOLO(\"yolov8n.yaml\")  # build a new model from scratch\n",
        "model = YOLO(\"yolov8l.pt\")  # load a pretrained model (recommended for training)\n",
        "\n",
        "# it will automatically download the model weights\n",
        "\n",
        "# Use the model\n",
        "#model.train(data=\"coco128.yaml\", epochs=3)  # train the model\n",
        "#metrics = model.val()  # evaluate model performance on the validation set\n",
        "#results = model(\"https://ultralytics.com/images/bus.jpg\")  # predict on an image\n",
        "#path = model.export(format=\"onnx\")  # export the model to ONNX format"
      ],
      "metadata": {
        "colab": {
          "base_uri": "https://localhost:8080/"
        },
        "id": "PB-ZUj_RC0LK",
        "outputId": "7363cace-60d1-47a0-cbed-c18d28de4597"
      },
      "execution_count": 1,
      "outputs": [
        {
          "output_type": "stream",
          "name": "stderr",
          "text": [
            "Downloading https://github.com/ultralytics/assets/releases/download/v0.0.0/yolov8l.pt to yolov8l.pt...\n",
            "100%|██████████| 83.7M/83.7M [00:01<00:00, 59.8MB/s]\n"
          ]
        }
      ]
    },
    {
      "cell_type": "code",
      "source": [
        "metrics = model.val()\n",
        "\n",
        "# it will automatically download the datasets it needs, though it would be faster to do it from gdrive if you already have it up there"
      ],
      "metadata": {
        "colab": {
          "base_uri": "https://localhost:8080/"
        },
        "id": "NfVSQEghI6yz",
        "outputId": "1c8fd0d1-bcaa-4b30-abe0-b94a4318d944"
      },
      "execution_count": 2,
      "outputs": [
        {
          "output_type": "stream",
          "name": "stderr",
          "text": [
            "Ultralytics YOLOv8.0.120 🚀 Python-3.10.12 torch-2.0.1+cu118 CUDA:0 (Tesla T4, 15102MiB)\n",
            "YOLOv8l summary (fused): 268 layers, 43668288 parameters, 0 gradients\n",
            "\n",
            "Dataset 'coco.yaml' images not found ⚠️, missing paths ['/content/datasets/coco/val2017.txt']\n",
            "Downloading https://github.com/ultralytics/yolov5/releases/download/v1.0/coco2017labels-segments.zip to /content/datasets/coco2017labels-segments.zip...\n",
            "100%|██████████| 169M/169M [00:02<00:00, 61.8MB/s]\n",
            "Unzipping /content/datasets/coco2017labels-segments.zip to /content/datasets...\n",
            "Downloading http://images.cocodataset.org/zips/train2017.zip to /content/datasets/coco/images/train2017.zip...\n",
            "Downloading http://images.cocodataset.org/zips/val2017.zip to /content/datasets/coco/images/val2017.zip...\n",
            "Downloading http://images.cocodataset.org/zips/test2017.zip to /content/datasets/coco/images/test2017.zip...\n",
            "Unzipping /content/datasets/coco/images/val2017.zip to /content/datasets/coco/images...\n",
            "Unzipping /content/datasets/coco/images/test2017.zip to /content/datasets/coco/images...\n",
            "Unzipping /content/datasets/coco/images/train2017.zip to /content/datasets/coco/images...\n",
            "Dataset download success ✅ (757.7s), saved to \u001b[1m/content/datasets\u001b[0m\n",
            "\n",
            "Downloading https://ultralytics.com/assets/Arial.ttf to /root/.config/Ultralytics/Arial.ttf...\n",
            "100%|██████████| 755k/755k [00:00<00:00, 30.4MB/s]\n",
            "\u001b[34m\u001b[1mval: \u001b[0mScanning /content/datasets/coco/labels/val2017... 4952 images, 48 backgrounds, 0 corrupt: 100%|██████████| 5000/5000 [00:14<00:00, 339.61it/s]\n",
            "\u001b[34m\u001b[1mval: \u001b[0mNew cache created: /content/datasets/coco/labels/val2017.cache\n",
            "                 Class     Images  Instances      Box(P          R      mAP50  mAP50-95): 100%|██████████| 313/313 [02:56<00:00,  1.77it/s]\n",
            "                   all       5000      36335       0.74      0.634      0.695      0.529\n",
            "                person       5000      10777      0.826      0.761      0.846      0.639\n",
            "               bicycle       5000        314      0.783      0.557      0.669      0.428\n",
            "                   car       5000       1918      0.782      0.672      0.748      0.527\n",
            "            motorcycle       5000        367      0.788       0.73      0.802      0.567\n",
            "              airplane       5000        143       0.89      0.888      0.934      0.789\n",
            "                   bus       5000        283      0.828      0.813      0.881       0.77\n",
            "                 train       5000        190      0.874      0.911      0.946      0.787\n",
            "                 truck       5000        414       0.67      0.539      0.639       0.48\n",
            "                  boat       5000        424      0.703      0.486      0.592      0.361\n",
            "         traffic light       5000        634      0.744      0.492      0.581      0.327\n",
            "          fire hydrant       5000        101       0.95      0.861      0.909      0.762\n",
            "             stop sign       5000         75      0.813       0.76      0.803      0.729\n",
            "         parking meter       5000         60      0.801      0.672      0.714      0.552\n",
            "                 bench       5000        411       0.67      0.448      0.488      0.364\n",
            "                  bird       5000        427      0.792      0.534      0.619      0.436\n",
            "                   cat       5000        202      0.917      0.932      0.955       0.83\n",
            "                   dog       5000        218      0.863      0.835       0.87      0.772\n",
            "                 horse       5000        272      0.855      0.846      0.919      0.728\n",
            "                 sheep       5000        354      0.751      0.788      0.831      0.643\n",
            "                   cow       5000        372      0.832      0.815      0.881      0.692\n",
            "              elephant       5000        252      0.829      0.913      0.903      0.754\n",
            "                  bear       5000         71      0.903       0.93      0.958      0.821\n",
            "                 zebra       5000        266      0.879      0.887       0.94      0.782\n",
            "               giraffe       5000        232      0.927      0.909      0.939      0.781\n",
            "              backpack       5000        371      0.592       0.34      0.399      0.231\n",
            "              umbrella       5000        407      0.695      0.676       0.73      0.532\n",
            "               handbag       5000        540      0.589      0.335      0.411      0.253\n",
            "                   tie       5000        252       0.75      0.544      0.634       0.46\n",
            "              suitcase       5000        299      0.709      0.669      0.747      0.547\n",
            "               frisbee       5000        115      0.884       0.87       0.91      0.741\n",
            "                  skis       5000        241      0.726      0.538       0.61      0.378\n",
            "             snowboard       5000         69      0.711      0.551      0.645      0.488\n",
            "           sports ball       5000        260      0.785      0.619      0.686      0.501\n",
            "                  kite       5000        327      0.714      0.651      0.701      0.504\n",
            "          baseball bat       5000        145      0.795      0.662      0.731      0.498\n",
            "        baseball glove       5000        148       0.82      0.622      0.707      0.456\n",
            "            skateboard       5000        179      0.875      0.849      0.866      0.666\n",
            "             surfboard       5000        267       0.82      0.637      0.727      0.502\n",
            "         tennis racket       5000        225      0.876      0.878       0.91      0.663\n",
            "                bottle       5000       1013      0.694      0.552      0.644      0.463\n",
            "            wine glass       5000        341      0.784      0.572      0.676      0.469\n",
            "                   cup       5000        895      0.689      0.609       0.68      0.525\n",
            "                  fork       5000        215      0.705      0.623      0.699      0.531\n",
            "                 knife       5000        325      0.678      0.389      0.491      0.328\n",
            "                 spoon       5000        253      0.609      0.412       0.45      0.334\n",
            "                  bowl       5000        623       0.65      0.608       0.65      0.514\n",
            "                banana       5000        370      0.612      0.383      0.473      0.317\n",
            "                 apple       5000        236      0.536      0.332      0.348      0.252\n",
            "              sandwich       5000        177      0.664      0.592      0.621       0.49\n",
            "                orange       5000        285      0.538      0.351      0.436      0.341\n",
            "              broccoli       5000        312      0.561      0.369      0.441      0.276\n",
            "                carrot       5000        365      0.483      0.348        0.4      0.264\n",
            "               hot dog       5000        125      0.707      0.472      0.569      0.447\n",
            "                 pizza       5000        284      0.763      0.738      0.795      0.633\n",
            "                 donut       5000        328      0.759      0.588      0.711      0.577\n",
            "                  cake       5000        310      0.682       0.61      0.684      0.479\n",
            "                 chair       5000       1771      0.697      0.509      0.604      0.423\n",
            "                 couch       5000        261      0.661      0.628      0.689       0.55\n",
            "          potted plant       5000        342      0.609      0.532      0.548      0.352\n",
            "                   bed       5000        163      0.698      0.687      0.748      0.569\n",
            "          dining table       5000        695      0.591      0.505      0.523      0.383\n",
            "                toilet       5000        179      0.786      0.799      0.865      0.722\n",
            "                    tv       5000        288      0.829      0.771       0.86      0.682\n",
            "                laptop       5000        231      0.808      0.803      0.868      0.752\n",
            "                 mouse       5000        106      0.848      0.802      0.858      0.674\n",
            "                remote       5000        283      0.723      0.569      0.666      0.464\n",
            "              keyboard       5000        153      0.747       0.66      0.784      0.618\n",
            "            cell phone       5000        262      0.711      0.626      0.674      0.488\n",
            "             microwave       5000         55      0.792      0.891      0.885      0.716\n",
            "                  oven       5000        143      0.662      0.563      0.632      0.471\n",
            "               toaster       5000          9      0.543      0.661      0.495      0.386\n",
            "                  sink       5000        225      0.692      0.622      0.681      0.478\n",
            "          refrigerator       5000        126      0.797      0.786      0.831      0.722\n",
            "                  book       5000       1129      0.603      0.198      0.332      0.197\n",
            "                 clock       5000        267       0.82      0.738      0.779      0.557\n",
            "                  vase       5000        274      0.666      0.588      0.662       0.49\n",
            "              scissors       5000         36      0.752      0.472      0.535      0.453\n",
            "            teddy bear       5000        190      0.763      0.676      0.745      0.626\n",
            "            hair drier       5000         11      0.686      0.182      0.263      0.208\n",
            "            toothbrush       5000         57      0.598      0.456      0.492      0.387\n",
            "Speed: 0.3ms preprocess, 25.6ms inference, 0.0ms loss, 1.6ms postprocess per image\n",
            "Saving runs/detect/val/predictions.json...\n",
            "\n",
            "Evaluating pycocotools mAP using runs/detect/val/predictions.json and /content/datasets/coco/annotations/instances_val2017.json...\n"
          ]
        },
        {
          "output_type": "stream",
          "name": "stdout",
          "text": [
            "loading annotations into memory...\n",
            "Done (t=0.48s)\n",
            "creating index...\n",
            "index created!\n",
            "Loading and preparing results...\n",
            "DONE (t=1.25s)\n",
            "creating index...\n",
            "index created!\n",
            "Running per image evaluation...\n",
            "Evaluate annotation type *bbox*\n",
            "DONE (t=57.84s).\n",
            "Accumulating evaluation results...\n",
            "DONE (t=10.04s).\n",
            " Average Precision  (AP) @[ IoU=0.50:0.95 | area=   all | maxDets=100 ] = 0.529\n",
            " Average Precision  (AP) @[ IoU=0.50      | area=   all | maxDets=100 ] = 0.698\n",
            " Average Precision  (AP) @[ IoU=0.75      | area=   all | maxDets=100 ] = 0.575\n",
            " Average Precision  (AP) @[ IoU=0.50:0.95 | area= small | maxDets=100 ] = 0.353\n",
            " Average Precision  (AP) @[ IoU=0.50:0.95 | area=medium | maxDets=100 ] = 0.583\n",
            " Average Precision  (AP) @[ IoU=0.50:0.95 | area= large | maxDets=100 ] = 0.698\n",
            " Average Recall     (AR) @[ IoU=0.50:0.95 | area=   all | maxDets=  1 ] = 0.393\n",
            " Average Recall     (AR) @[ IoU=0.50:0.95 | area=   all | maxDets= 10 ] = 0.653\n",
            " Average Recall     (AR) @[ IoU=0.50:0.95 | area=   all | maxDets=100 ] = 0.701\n",
            " Average Recall     (AR) @[ IoU=0.50:0.95 | area= small | maxDets=100 ] = 0.525\n",
            " Average Recall     (AR) @[ IoU=0.50:0.95 | area=medium | maxDets=100 ] = 0.759\n",
            " Average Recall     (AR) @[ IoU=0.50:0.95 | area= large | maxDets=100 ] = 0.854\n"
          ]
        },
        {
          "output_type": "stream",
          "name": "stderr",
          "text": [
            "Results saved to \u001b[1mruns/detect/val\u001b[0m\n"
          ]
        }
      ]
    },
    {
      "cell_type": "code",
      "source": [
        "model2 = YOLO(\"yolov8x.pt\")"
      ],
      "metadata": {
        "colab": {
          "base_uri": "https://localhost:8080/"
        },
        "id": "-__pusGrI-Ow",
        "outputId": "d600d457-0550-407d-d191-841f397fb949"
      },
      "execution_count": 3,
      "outputs": [
        {
          "output_type": "stream",
          "name": "stderr",
          "text": [
            "Downloading https://github.com/ultralytics/assets/releases/download/v0.0.0/yolov8x.pt to yolov8x.pt...\n",
            "100%|██████████| 131M/131M [00:01<00:00, 97.4MB/s]\n"
          ]
        }
      ]
    },
    {
      "cell_type": "code",
      "source": [
        "metrics2 = model2.val()"
      ],
      "metadata": {
        "colab": {
          "base_uri": "https://localhost:8080/"
        },
        "id": "wYRZo7qKNKI9",
        "outputId": "9967a442-d318-47c3-985d-a5a8384ad455"
      },
      "execution_count": 4,
      "outputs": [
        {
          "output_type": "stream",
          "name": "stderr",
          "text": [
            "Ultralytics YOLOv8.0.120 🚀 Python-3.10.12 torch-2.0.1+cu118 CUDA:0 (Tesla T4, 15102MiB)\n",
            "YOLOv8x summary (fused): 268 layers, 68200608 parameters, 0 gradients\n",
            "\u001b[34m\u001b[1mval: \u001b[0mScanning /content/datasets/coco/labels/val2017.cache... 4952 images, 48 backgrounds, 0 corrupt: 100%|██████████| 5000/5000 [00:00<?, ?it/s]\n",
            "                 Class     Images  Instances      Box(P          R      mAP50  mAP50-95): 100%|██████████| 313/313 [04:29<00:00,  1.16it/s]\n",
            "                   all       5000      36335      0.737      0.647      0.707       0.54\n",
            "                person       5000      10777      0.827      0.769      0.849      0.644\n",
            "               bicycle       5000        314      0.732      0.583      0.665      0.432\n",
            "                   car       5000       1918      0.756      0.682      0.753      0.537\n",
            "            motorcycle       5000        367      0.767      0.717      0.791       0.56\n",
            "              airplane       5000        143      0.833      0.874      0.928      0.791\n",
            "                   bus       5000        283      0.881      0.813      0.886      0.778\n",
            "                 train       5000        190      0.915      0.911      0.956      0.793\n",
            "                 truck       5000        414      0.686      0.572      0.652       0.49\n",
            "                  boat       5000        424      0.704      0.521      0.597      0.357\n",
            "         traffic light       5000        634      0.708      0.508      0.591      0.337\n",
            "          fire hydrant       5000        101      0.915      0.851      0.923      0.769\n",
            "             stop sign       5000         75      0.807      0.725      0.811      0.733\n",
            "         parking meter       5000         60      0.764      0.667       0.72      0.563\n",
            "                 bench       5000        411      0.633      0.458      0.497       0.37\n",
            "                  bird       5000        427      0.749       0.53      0.635       0.44\n",
            "                   cat       5000        202      0.917      0.928      0.959      0.826\n",
            "                   dog       5000        218      0.828      0.839      0.861       0.76\n",
            "                 horse       5000        272       0.87      0.884      0.923      0.739\n",
            "                 sheep       5000        354      0.746       0.82      0.836      0.653\n",
            "                   cow       5000        372      0.822      0.801      0.874      0.691\n",
            "              elephant       5000        252      0.811      0.921      0.901      0.762\n",
            "                  bear       5000         71      0.883      0.915      0.947      0.812\n",
            "                 zebra       5000        266      0.847      0.883      0.935       0.78\n",
            "               giraffe       5000        232      0.911      0.922      0.952      0.806\n",
            "              backpack       5000        371      0.578      0.377      0.411      0.247\n",
            "              umbrella       5000        407      0.708      0.696      0.732       0.54\n",
            "               handbag       5000        540      0.571       0.37      0.416      0.258\n",
            "                   tie       5000        252       0.82       0.58      0.675      0.485\n",
            "              suitcase       5000        299      0.725      0.689      0.759      0.547\n",
            "               frisbee       5000        115      0.889      0.902      0.927      0.758\n",
            "                  skis       5000        241      0.763      0.534      0.601      0.366\n",
            "             snowboard       5000         69       0.74      0.577      0.656      0.516\n",
            "           sports ball       5000        260      0.797      0.608      0.681      0.503\n",
            "                  kite       5000        327      0.695      0.633        0.7      0.518\n",
            "          baseball bat       5000        145      0.768      0.697       0.77      0.521\n",
            "        baseball glove       5000        148       0.77      0.649      0.722      0.468\n",
            "            skateboard       5000        179      0.869      0.849      0.856      0.672\n",
            "             surfboard       5000        267      0.838      0.678      0.766      0.536\n",
            "         tennis racket       5000        225      0.879      0.876      0.913      0.679\n",
            "                bottle       5000       1013      0.721      0.566      0.645       0.47\n",
            "            wine glass       5000        341       0.78      0.594       0.68      0.477\n",
            "                   cup       5000        895      0.689      0.611      0.695      0.546\n",
            "                  fork       5000        215       0.69      0.651      0.712      0.543\n",
            "                 knife       5000        325       0.65      0.428      0.503      0.334\n",
            "                 spoon       5000        253       0.58      0.421      0.466      0.345\n",
            "                  bowl       5000        623      0.671       0.61      0.659      0.524\n",
            "                banana       5000        370      0.585      0.374       0.46      0.313\n",
            "                 apple       5000        236       0.56      0.329       0.38      0.267\n",
            "              sandwich       5000        177      0.655      0.605      0.625      0.497\n",
            "                orange       5000        285      0.589      0.372      0.466      0.366\n",
            "              broccoli       5000        312      0.575       0.39      0.452      0.283\n",
            "                carrot       5000        365      0.513      0.351      0.391      0.265\n",
            "               hot dog       5000        125      0.735      0.544      0.638      0.502\n",
            "                 pizza       5000        284      0.763      0.736      0.801      0.635\n",
            "                 donut       5000        328       0.77      0.583      0.701      0.567\n",
            "                  cake       5000        310      0.707      0.603      0.691      0.479\n",
            "                 chair       5000       1771      0.683      0.537      0.623      0.439\n",
            "                 couch       5000        261      0.654      0.651      0.701      0.557\n",
            "          potted plant       5000        342      0.623       0.56      0.586      0.387\n",
            "                   bed       5000        163      0.708      0.686      0.751      0.578\n",
            "          dining table       5000        695      0.583      0.521      0.534      0.389\n",
            "                toilet       5000        179      0.825       0.81      0.878      0.742\n",
            "                    tv       5000        288      0.834      0.805      0.858      0.686\n",
            "                laptop       5000        231       0.82      0.827      0.875      0.766\n",
            "                 mouse       5000        106      0.813      0.811      0.862      0.697\n",
            "                remote       5000        283      0.712      0.593      0.672      0.475\n",
            "              keyboard       5000        153      0.753      0.693      0.792      0.631\n",
            "            cell phone       5000        262      0.721      0.582      0.655      0.475\n",
            "             microwave       5000         55       0.75      0.873      0.859      0.716\n",
            "                  oven       5000        143      0.694      0.615      0.672      0.502\n",
            "               toaster       5000          9      0.519      0.778       0.75      0.544\n",
            "                  sink       5000        225      0.661      0.641      0.692      0.491\n",
            "          refrigerator       5000        126      0.795      0.794      0.857      0.744\n",
            "                  book       5000       1129      0.566      0.185      0.321       0.19\n",
            "                 clock       5000        267      0.761       0.73      0.779      0.564\n",
            "                  vase       5000        274       0.69      0.591      0.642      0.459\n",
            "              scissors       5000         36       0.75      0.472      0.556      0.463\n",
            "            teddy bear       5000        190      0.731        0.7      0.773      0.628\n",
            "            hair drier       5000         11       0.69      0.182      0.273      0.197\n",
            "            toothbrush       5000         57      0.665      0.558      0.611      0.433\n",
            "Speed: 0.3ms preprocess, 44.1ms inference, 0.0ms loss, 1.5ms postprocess per image\n",
            "Saving runs/detect/val2/predictions.json...\n",
            "\n",
            "Evaluating pycocotools mAP using runs/detect/val2/predictions.json and /content/datasets/coco/annotations/instances_val2017.json...\n"
          ]
        },
        {
          "output_type": "stream",
          "name": "stdout",
          "text": [
            "loading annotations into memory...\n",
            "Done (t=0.47s)\n",
            "creating index...\n",
            "index created!\n",
            "Loading and preparing results...\n",
            "DONE (t=3.25s)\n",
            "creating index...\n",
            "index created!\n",
            "Running per image evaluation...\n",
            "Evaluate annotation type *bbox*\n",
            "DONE (t=58.12s).\n",
            "Accumulating evaluation results...\n"
          ]
        },
        {
          "output_type": "stream",
          "name": "stderr",
          "text": [
            "Results saved to \u001b[1mruns/detect/val2\u001b[0m\n"
          ]
        },
        {
          "output_type": "stream",
          "name": "stdout",
          "text": [
            "DONE (t=9.70s).\n",
            " Average Precision  (AP) @[ IoU=0.50:0.95 | area=   all | maxDets=100 ] = 0.539\n",
            " Average Precision  (AP) @[ IoU=0.50      | area=   all | maxDets=100 ] = 0.710\n",
            " Average Precision  (AP) @[ IoU=0.75      | area=   all | maxDets=100 ] = 0.587\n",
            " Average Precision  (AP) @[ IoU=0.50:0.95 | area= small | maxDets=100 ] = 0.357\n",
            " Average Precision  (AP) @[ IoU=0.50:0.95 | area=medium | maxDets=100 ] = 0.593\n",
            " Average Precision  (AP) @[ IoU=0.50:0.95 | area= large | maxDets=100 ] = 0.707\n",
            " Average Recall     (AR) @[ IoU=0.50:0.95 | area=   all | maxDets=  1 ] = 0.398\n",
            " Average Recall     (AR) @[ IoU=0.50:0.95 | area=   all | maxDets= 10 ] = 0.659\n",
            " Average Recall     (AR) @[ IoU=0.50:0.95 | area=   all | maxDets=100 ] = 0.707\n",
            " Average Recall     (AR) @[ IoU=0.50:0.95 | area= small | maxDets=100 ] = 0.546\n",
            " Average Recall     (AR) @[ IoU=0.50:0.95 | area=medium | maxDets=100 ] = 0.763\n",
            " Average Recall     (AR) @[ IoU=0.50:0.95 | area= large | maxDets=100 ] = 0.851\n"
          ]
        }
      ]
    }
  ]
}
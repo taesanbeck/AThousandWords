version https://git-lfs.github.com/spec/v1
oid sha256:38e54a8d68b554197de3b7cb6691a01808a7b0eb57713befef6b00bc3fa092c4
size 35563

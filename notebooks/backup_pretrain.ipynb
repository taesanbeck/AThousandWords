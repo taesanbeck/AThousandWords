version https://git-lfs.github.com/spec/v1
oid sha256:3bd1f80625c5555abb1686f1e3c600ebabf40cc61b3622cadaccdc5458402b64
size 13518
